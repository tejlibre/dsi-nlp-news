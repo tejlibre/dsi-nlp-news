{
  "nbformat": 4,
  "nbformat_minor": 0,
  "metadata": {
    "colab": {
      "name": "Final Report.ipynb",
      "provenance": []
    },
    "kernelspec": {
      "name": "python3",
      "display_name": "Python 3"
    },
    "language_info": {
      "name": "python"
    }
  },
  "cells": [
    {
      "cell_type": "markdown",
      "source": [
        "#1. Overview"
      ],
      "metadata": {
        "id": "DcdD7pIgSQIo"
      }
    },
    {
      "cell_type": "markdown",
      "source": [
        "#2. Pipeline Methodology"
      ],
      "metadata": {
        "id": "7FCe5Z4pSXGl"
      }
    },
    {
      "cell_type": "markdown",
      "source": [
        "#3. Data"
      ],
      "metadata": {
        "id": "Lbc6iolKSfi4"
      }
    },
    {
      "cell_type": "markdown",
      "source": [
        "For this project we tapped into various data sources:\n",
        "1. Tweets : Top trending tweets were harvested for a week from the twitter API.\n",
        "2. GDELT: "
      ],
      "metadata": {
        "id": "3e-RnoBGWxcr"
      }
    },
    {
      "cell_type": "markdown",
      "source": [
        "#4. Sentiment Analysis"
      ],
      "metadata": {
        "id": "KN6oJyU_SpBd"
      }
    },
    {
      "cell_type": "markdown",
      "source": [
        "## 4.1 Polarity Analysis"
      ],
      "metadata": {
        "id": "3MjPvrdKSv14"
      }
    },
    {
      "cell_type": "markdown",
      "source": [
        "##4.2 Subjectivity Analysis"
      ],
      "metadata": {
        "id": "QOtqVII2S8fd"
      }
    },
    {
      "cell_type": "markdown",
      "source": [
        "##4.3 Emotion Analysis"
      ],
      "metadata": {
        "id": "ttJ80tLaTGih"
      }
    },
    {
      "cell_type": "markdown",
      "source": [
        "# 5. Topic Modeling"
      ],
      "metadata": {
        "id": "i3XSY2xQTOkv"
      }
    },
    {
      "cell_type": "markdown",
      "source": [
        "#6. Text Generation"
      ],
      "metadata": {
        "id": "u0YEwJm-TTch"
      }
    },
    {
      "cell_type": "markdown",
      "source": [
        "Text generation is a subfield of natural language processing (NLP). It leverages knowledge in computational linguistics and artificial intelligence to automatically generate natural language texts, which can satisfy certain communicative requirements. Deep Learning (DL) models are trained to generate random but hopefully meaningful text in the simplest form.\n",
        "\n",
        "For this project we pursued 2 approaches:\n",
        "\n",
        "1. Transfer learning: Utilizing a pre-trained model from hugging face to spin an article. The pre-trained model will be fed seed text from a trending subject and will output an article. \n",
        "2. Training a custom LSTM model on the tweets and predicting a sequence of the next most probable words.\n",
        "\n",
        "[Text Generation Notebook](https://github.com/tejlibre/dsi-nlp-news/blob/dev/Notebooks/Text_Generation.ipynb)"
      ],
      "metadata": {
        "id": "Pcr1bJ7DXWkK"
      }
    },
    {
      "cell_type": "markdown",
      "source": [
        "# 7. Deployment"
      ],
      "metadata": {
        "id": "rzMhT96NTtJz"
      }
    },
    {
      "cell_type": "markdown",
      "source": [
        "The project's main aim was to design a product (web page) that would act as an aid to a journalist having the following features.\n",
        "\n",
        "- Word cloud visualization on what's trending.\n",
        "- Sentiment and emotion analysis.\n",
        "- Topic discovery.\n",
        "- Article generation.\n",
        "\n",
        "A webpage with the above stated features was designed, developed and hosted in the cloud.\n",
        "\n",
        "Some of the tools utilized for the webpage deployment are:\n",
        "\n",
        "- Streamlit: Open-source app framework for Machine Learning and Data Science teams\n",
        "- Streamlit Cloud: Workspace to deploy, share, and collaborate on Streamlit applications.\n",
        "\n",
        "The product name is Scoop Finder.\n",
        "\n",
        "[Scoop Finder Link](https://share.streamlit.io/tejlibre/dsi-nlp-news/dev/Home_Page/app.py)"
      ],
      "metadata": {
        "id": "zcyosJ06ZhHA"
      }
    },
    {
      "cell_type": "markdown",
      "source": [
        "#8. Results and Conclussion"
      ],
      "metadata": {
        "id": "b22hpaVIT0mW"
      }
    },
    {
      "cell_type": "code",
      "source": [
        ""
      ],
      "metadata": {
        "id": "VXL3jA3BSnM6"
      },
      "execution_count": 1,
      "outputs": []
    },
    {
      "cell_type": "code",
      "source": [
        ""
      ],
      "metadata": {
        "id": "8IHCaAfdTFVv"
      },
      "execution_count": null,
      "outputs": []
    }
  ]
}