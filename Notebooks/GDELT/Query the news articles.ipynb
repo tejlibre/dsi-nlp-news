{
 "cells": [
  {
   "cell_type": "markdown",
   "metadata": {},
   "source": [
    "# Query the newsarticles tagged with CORONAVIRUS\n",
    "- Query using a date range\n",
    "- Count the news articles by using a time window of 15 minutes"
   ]
  },
  {
   "cell_type": "markdown",
   "metadata": {},
   "source": [
    "# Requirements"
   ]
  },
  {
   "cell_type": "code",
   "execution_count": 1,
   "metadata": {},
   "outputs": [
    {
     "name": "stdout",
     "output_type": "stream",
     "text": [
      "Requirement already satisfied: gdelt in c:\\users\\developer\\appdata\\roaming\\python\\python36\\site-packages (0.1.10.6)\n",
      "Requirement already satisfied: pandas>=0.20.3 in c:\\users\\developer\\appdata\\roaming\\python\\python36\\site-packages (from gdelt) (1.0.1)\n",
      "Requirement already satisfied: numpy in c:\\users\\developer\\appdata\\roaming\\python\\python36\\site-packages (from gdelt) (1.18.1)\n",
      "Requirement already satisfied: python-dateutil in c:\\bin\\anaconda3\\lib\\site-packages (from gdelt) (2.6.1)\n",
      "Requirement already satisfied: requests in c:\\users\\developer\\appdata\\roaming\\python\\python36\\site-packages (from gdelt) (2.22.0)\n",
      "Requirement already satisfied: pytz>=2017.2 in c:\\bin\\anaconda3\\lib\\site-packages (from pandas>=0.20.3->gdelt) (2017.3)\n",
      "Requirement already satisfied: six>=1.5 in c:\\bin\\anaconda3\\lib\\site-packages (from python-dateutil->gdelt) (1.11.0)\n",
      "Requirement already satisfied: idna<2.9,>=2.5 in c:\\bin\\anaconda3\\lib\\site-packages (from requests->gdelt) (2.6)\n",
      "Requirement already satisfied: urllib3!=1.25.0,!=1.25.1,<1.26,>=1.21.1 in c:\\bin\\anaconda3\\lib\\site-packages (from requests->gdelt) (1.22)\n",
      "Requirement already satisfied: chardet<3.1.0,>=3.0.2 in c:\\bin\\anaconda3\\lib\\site-packages (from requests->gdelt) (3.0.4)\n",
      "Requirement already satisfied: certifi>=2017.4.17 in c:\\bin\\anaconda3\\lib\\site-packages (from requests->gdelt) (2019.11.28)\n"
     ]
    },
    {
     "name": "stderr",
     "output_type": "stream",
     "text": [
      "You are using pip version 18.1, however version 20.0.2 is available.\n",
      "You should consider upgrading via the 'python -m pip install --upgrade pip' command.\n"
     ]
    }
   ],
   "source": [
    "!pip install --user gdelt"
   ]
  },
  {
   "cell_type": "markdown",
   "metadata": {},
   "source": [
    "# Import modules"
   ]
  },
  {
   "cell_type": "code",
   "execution_count": 1,
   "metadata": {},
   "outputs": [],
   "source": [
    "from datetime import date, timedelta\n",
    "from gdelt import gdelt as gdelt_client\n",
    "import os.path\n",
    "import pandas\n",
    "import tempfile"
   ]
  },
  {
   "cell_type": "code",
   "execution_count": 2,
   "metadata": {},
   "outputs": [],
   "source": [
    "def get_graph(date, coverage=False):\n",
    "    client = gdelt_client(version=2)\n",
    "    graph = client.Search(date.strftime(\"%Y %m %d\"), table=\"gkg\", coverage=coverage)\n",
    "    graph = graph.astype({\"DATE\": str})\n",
    "    graph[\"DATE\"] = graph[\"DATE\"].apply(lambda dateStr: pandas.to_datetime(dateStr[:14], format=\"%Y%m%d%H%M%S\"))\n",
    "    del client\n",
    "    return graph\n",
    "\n",
    "def get_graph_range(from_date, to_date, coverage=False):\n",
    "    date_range = to_date-from_date\n",
    "    if date_range.days < 1:\n",
    "        return\n",
    "    \n",
    "    client = gdelt_client(version=2)\n",
    "    graph = None\n",
    "    for day in range(0, date_range.days + 1):\n",
    "        date = from_date + timedelta(days=day)\n",
    "        graph_temp = client.Search(date.strftime(\"%Y %m %d\"), table=\"gkg\", coverage=coverage)\n",
    "        graph_temp = graph_temp.astype({\"DATE\": str})\n",
    "        graph_temp[\"DATE\"] = graph_temp[\"DATE\"].apply(lambda dateStr: pandas.to_datetime(dateStr[:14], format=\"%Y%m%d%H%M%S\"))\n",
    "        if graph is None:\n",
    "            graph = graph_temp\n",
    "        else:\n",
    "            graph = pandas.concat([graph, graph_temp], axis=0)\n",
    "    del client\n",
    "    return graph\n",
    "\n",
    "def count_by_theme(graph, theme):\n",
    "    theme_graph = graph.loc[graph[\"V2Themes\"].str.contains(theme, na=False)]\n",
    "    theme_rank = theme_graph.groupby(\"DATE\")\n",
    "    return theme_rank.size()\n",
    "\n",
    "def save_temporary_report(date, theme, name):\n",
    "    graph = get_graph(date, coverage=True)\n",
    "    graph_counts = count_by_theme(graph, theme)\n",
    "    graph_counts.columns=[\"COUNT\"]\n",
    "    csv_file = \"{}/{}_{}.report.csv\".format(tempfile.gettempdir(), name, date.today().strftime(\"%Y%m%d\"))\n",
    "    if os.path.isfile(csv_file):\n",
    "        header = False\n",
    "    else:\n",
    "        header = graph_counts.columns\n",
    "    graph_counts.to_csv(csv_file, header=header, mode=\"a\", index=True)\n",
    "    del graph_counts\n",
    "    del graph"
   ]
  },
  {
   "cell_type": "markdown",
   "metadata": {},
   "source": [
    "# Query and count the newsarticles"
   ]
  },
  {
   "cell_type": "code",
   "execution_count": 3,
   "metadata": {},
   "outputs": [],
   "source": [
    "end_date = date.today()-timedelta(days=7)\n",
    "start_date = end_date-timedelta(days=90)\n",
    "date_range = end_date-start_date\n",
    "for day in range(0, date_range.days + 1):\n",
    "    report_date = start_date + timedelta(days=day)\n",
    "    save_temporary_report(report_date, \"TAX_DISEASE_CORONAVIRUS\", \"corona\")"
   ]
  },
  {
   "cell_type": "code",
   "execution_count": null,
   "metadata": {},
   "outputs": [],
   "source": []
  }
 ],
 "metadata": {
  "kernelspec": {
   "display_name": "Python 3",
   "language": "python",
   "name": "python3"
  },
  "language_info": {
   "codemirror_mode": {
    "name": "ipython",
    "version": 3
   },
   "file_extension": ".py",
   "mimetype": "text/x-python",
   "name": "python",
   "nbconvert_exporter": "python",
   "pygments_lexer": "ipython3",
   "version": "3.6.4"
  }
 },
 "nbformat": 4,
 "nbformat_minor": 2
}
