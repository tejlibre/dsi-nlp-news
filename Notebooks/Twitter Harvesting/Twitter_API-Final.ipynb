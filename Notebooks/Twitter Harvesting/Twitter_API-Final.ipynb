{
 "cells": [
  {
   "cell_type": "markdown",
   "id": "ce6750cd",
   "metadata": {},
   "source": [
    "# Introduction"
   ]
  },
  {
   "cell_type": "markdown",
   "id": "9632af08",
   "metadata": {},
   "source": [
    "This notebook's main purpose is scraping tweets from the tweeter API and exporting the tweets as dataframes to be consumed by other processes.\n",
    "\n",
    "Two twitter API endpoints will be utilized:\n",
    "\n",
    "1. Standard search API: To query tweets using key phrases.\n",
    "2. Get trends/places API: To query trending hashtags"
   ]
  },
  {
   "cell_type": "markdown",
   "id": "4a47ba26",
   "metadata": {},
   "source": [
    "## 1. Import Libraries"
   ]
  },
  {
   "cell_type": "code",
   "execution_count": 1,
   "id": "cf93b95a",
   "metadata": {},
   "outputs": [],
   "source": [
    "## Import libraries\n",
    "import tweepy\n",
    "import configparser\n",
    "import pandas as pd\n",
    "from datetime import date"
   ]
  },
  {
   "cell_type": "markdown",
   "id": "b3fe48a7",
   "metadata": {},
   "source": [
    "## 2. Twitter Authentication"
   ]
  },
  {
   "cell_type": "markdown",
   "id": "a6084f28",
   "metadata": {},
   "source": [
    "Set up twitter authentication. Credentials are stored separately in a config file."
   ]
  },
  {
   "cell_type": "code",
   "execution_count": 2,
   "id": "e9a87298",
   "metadata": {},
   "outputs": [],
   "source": [
    "## Read in API Configs\n",
    "\n",
    "## Create config parser instance\n",
    "config = configparser.ConfigParser()\n",
    "\n",
    "## Read credentials from config file\n",
    "config.read('config.ini')\n",
    "\n",
    "api_key = config['twitter']['api_key']\n",
    "api_key_secret = config['twitter']['api_key_secret']\n",
    "\n",
    "access_token = config['twitter']['access_token']\n",
    "access_token_secret = config['twitter']['access_token_secret']\n"
   ]
  },
  {
   "cell_type": "code",
   "execution_count": 3,
   "id": "5f9be30d",
   "metadata": {},
   "outputs": [],
   "source": [
    "## Authenticate \n",
    "\n",
    "auth = tweepy.OAuth1UserHandler(api_key,api_key_secret)\n",
    "\n",
    "auth.set_access_token(access_token,access_token_secret)\n",
    "\n",
    "api = tweepy.API(auth)"
   ]
  },
  {
   "cell_type": "markdown",
   "id": "92b2161d",
   "metadata": {},
   "source": [
    "## 3. Harvest Tweets"
   ]
  },
  {
   "cell_type": "markdown",
   "id": "cfe23657",
   "metadata": {},
   "source": [
    "### 3.1 Standard search API"
   ]
  },
  {
   "cell_type": "markdown",
   "id": "3429eb90",
   "metadata": {},
   "source": [
    "Returns a collection of relevant Tweets matching a specified query."
   ]
  },
  {
   "cell_type": "code",
   "execution_count": 4,
   "id": "560cfe49",
   "metadata": {},
   "outputs": [
    {
     "name": "stdout",
     "output_type": "stream",
     "text": [
      "CPU times: user 188 ms, sys: 46.9 ms, total: 235 ms\n",
      "Wall time: 6.36 s\n"
     ]
    }
   ],
   "source": [
    "%%time\n",
    "\n",
    "## List query phrases\n",
    "topics = [\"Africa\",\"Kenya\",\"Mauritius\",\"South Africa\"]\n",
    "\n",
    "## Tweets to be returned by API\n",
    "tweet_count = 100\n",
    "\n",
    "## List containers for API output\n",
    "tweets = []\n",
    "time_stamps = []\n",
    "screen_names = []\n",
    "topic_country = []\n",
    "\n",
    "## Query API\n",
    "for topic in topics:\n",
    "    \n",
    "    for tweet in api.search_tweets(q=topic,count=tweet_count,lang='en',result_type=\"recent\"):\n",
    "        tweets.append(tweet.text)\n",
    "        time_stamps.append(tweet.created_at)\n",
    "        screen_names.append(tweet.user.screen_name)\n",
    "        topic_country.append(topic)\n",
    "    \n"
   ]
  },
  {
   "cell_type": "code",
   "execution_count": 5,
   "id": "4659db85",
   "metadata": {},
   "outputs": [
    {
     "data": {
      "text/html": [
       "<div>\n",
       "<style scoped>\n",
       "    .dataframe tbody tr th:only-of-type {\n",
       "        vertical-align: middle;\n",
       "    }\n",
       "\n",
       "    .dataframe tbody tr th {\n",
       "        vertical-align: top;\n",
       "    }\n",
       "\n",
       "    .dataframe thead th {\n",
       "        text-align: right;\n",
       "    }\n",
       "</style>\n",
       "<table border=\"1\" class=\"dataframe\">\n",
       "  <thead>\n",
       "    <tr style=\"text-align: right;\">\n",
       "      <th></th>\n",
       "      <th>screen_name</th>\n",
       "      <th>Source</th>\n",
       "      <th>tweets</th>\n",
       "      <th>time_stamp</th>\n",
       "    </tr>\n",
       "  </thead>\n",
       "  <tbody>\n",
       "    <tr>\n",
       "      <th>0</th>\n",
       "      <td>SelamTsegay1927</td>\n",
       "      <td>Africa</td>\n",
       "      <td>RT @Wedimekelle12: |‘.. A communication blacko...</td>\n",
       "      <td>2022-03-31 08:28:40+00:00</td>\n",
       "    </tr>\n",
       "    <tr>\n",
       "      <th>1</th>\n",
       "      <td>brie_ake</td>\n",
       "      <td>Africa</td>\n",
       "      <td>RT @Robelgz: “'Catastrophic' humanitarian cris...</td>\n",
       "      <td>2022-03-31 08:28:40+00:00</td>\n",
       "    </tr>\n",
       "    <tr>\n",
       "      <th>2</th>\n",
       "      <td>firdausamo</td>\n",
       "      <td>Africa</td>\n",
       "      <td>RT @mohammedhersi: This was found to TOP prior...</td>\n",
       "      <td>2022-03-31 08:28:40+00:00</td>\n",
       "    </tr>\n",
       "    <tr>\n",
       "      <th>3</th>\n",
       "      <td>Tasko_twa</td>\n",
       "      <td>Africa</td>\n",
       "      <td>RT @TimesLIVE: Businessman Malcom X has pledge...</td>\n",
       "      <td>2022-03-31 08:28:40+00:00</td>\n",
       "    </tr>\n",
       "    <tr>\n",
       "      <th>4</th>\n",
       "      <td>thefield_in</td>\n",
       "      <td>Africa</td>\n",
       "      <td>#CWC22 #SAvENG\\n\\nDefending champions #TeamEng...</td>\n",
       "      <td>2022-03-31 08:28:39+00:00</td>\n",
       "    </tr>\n",
       "    <tr>\n",
       "      <th>...</th>\n",
       "      <td>...</td>\n",
       "      <td>...</td>\n",
       "      <td>...</td>\n",
       "      <td>...</td>\n",
       "    </tr>\n",
       "    <tr>\n",
       "      <th>395</th>\n",
       "      <td>prof_oak123</td>\n",
       "      <td>South Africa</td>\n",
       "      <td>Match was over after first innings. \\nNo way s...</td>\n",
       "      <td>2022-03-31 08:26:23+00:00</td>\n",
       "    </tr>\n",
       "    <tr>\n",
       "      <th>396</th>\n",
       "      <td>onecrapguy</td>\n",
       "      <td>South Africa</td>\n",
       "      <td>No snow here today I’m pleased to confirm.\\n.\\...</td>\n",
       "      <td>2022-03-31 08:26:20+00:00</td>\n",
       "    </tr>\n",
       "    <tr>\n",
       "      <th>397</th>\n",
       "      <td>karabo80630538</td>\n",
       "      <td>South Africa</td>\n",
       "      <td>@MmusiMaimane kana ha ore We , ore wena le Man...</td>\n",
       "      <td>2022-03-31 08:26:19+00:00</td>\n",
       "    </tr>\n",
       "    <tr>\n",
       "      <th>398</th>\n",
       "      <td>MohamedHamdhoon</td>\n",
       "      <td>South Africa</td>\n",
       "      <td>RT @RYOmoha: In South&amp;amp; North American and ...</td>\n",
       "      <td>2022-03-31 08:26:19+00:00</td>\n",
       "    </tr>\n",
       "    <tr>\n",
       "      <th>399</th>\n",
       "      <td>Auriga_ZA</td>\n",
       "      <td>South Africa</td>\n",
       "      <td>@RAIL Still available to buy brand new in Sout...</td>\n",
       "      <td>2022-03-31 08:26:18+00:00</td>\n",
       "    </tr>\n",
       "  </tbody>\n",
       "</table>\n",
       "<p>400 rows × 4 columns</p>\n",
       "</div>"
      ],
      "text/plain": [
       "         screen_name        Source  \\\n",
       "0    SelamTsegay1927        Africa   \n",
       "1           brie_ake        Africa   \n",
       "2         firdausamo        Africa   \n",
       "3          Tasko_twa        Africa   \n",
       "4        thefield_in        Africa   \n",
       "..               ...           ...   \n",
       "395      prof_oak123  South Africa   \n",
       "396       onecrapguy  South Africa   \n",
       "397   karabo80630538  South Africa   \n",
       "398  MohamedHamdhoon  South Africa   \n",
       "399        Auriga_ZA  South Africa   \n",
       "\n",
       "                                                tweets  \\\n",
       "0    RT @Wedimekelle12: |‘.. A communication blacko...   \n",
       "1    RT @Robelgz: “'Catastrophic' humanitarian cris...   \n",
       "2    RT @mohammedhersi: This was found to TOP prior...   \n",
       "3    RT @TimesLIVE: Businessman Malcom X has pledge...   \n",
       "4    #CWC22 #SAvENG\\n\\nDefending champions #TeamEng...   \n",
       "..                                                 ...   \n",
       "395  Match was over after first innings. \\nNo way s...   \n",
       "396  No snow here today I’m pleased to confirm.\\n.\\...   \n",
       "397  @MmusiMaimane kana ha ore We , ore wena le Man...   \n",
       "398  RT @RYOmoha: In South&amp; North American and ...   \n",
       "399  @RAIL Still available to buy brand new in Sout...   \n",
       "\n",
       "                   time_stamp  \n",
       "0   2022-03-31 08:28:40+00:00  \n",
       "1   2022-03-31 08:28:40+00:00  \n",
       "2   2022-03-31 08:28:40+00:00  \n",
       "3   2022-03-31 08:28:40+00:00  \n",
       "4   2022-03-31 08:28:39+00:00  \n",
       "..                        ...  \n",
       "395 2022-03-31 08:26:23+00:00  \n",
       "396 2022-03-31 08:26:20+00:00  \n",
       "397 2022-03-31 08:26:19+00:00  \n",
       "398 2022-03-31 08:26:19+00:00  \n",
       "399 2022-03-31 08:26:18+00:00  \n",
       "\n",
       "[400 rows x 4 columns]"
      ]
     },
     "execution_count": 5,
     "metadata": {},
     "output_type": "execute_result"
    }
   ],
   "source": [
    "\n",
    "## Create df from API output\n",
    "topic_df = pd.DataFrame(list(zip(screen_names,topic_country ,tweets,time_stamps)),\n",
    "               columns =['screen_name', 'Source','tweets','time_stamp'])\n",
    "topic_df"
   ]
  },
  {
   "cell_type": "code",
   "execution_count": 6,
   "id": "19f4e314",
   "metadata": {},
   "outputs": [
    {
     "data": {
      "text/plain": [
       "Africa          100\n",
       "Kenya           100\n",
       "Mauritius       100\n",
       "South Africa    100\n",
       "Name: Source, dtype: int64"
      ]
     },
     "execution_count": 6,
     "metadata": {},
     "output_type": "execute_result"
    }
   ],
   "source": [
    "## Topic distribution\n",
    "topic_df['Source'].value_counts()"
   ]
  },
  {
   "cell_type": "markdown",
   "id": "df77d5ae",
   "metadata": {},
   "source": [
    "### 3.2 Get trends near a location API"
   ]
  },
  {
   "cell_type": "markdown",
   "id": "aed6db2a",
   "metadata": {},
   "source": [
    "#### 3.2.1 Query Trends"
   ]
  },
  {
   "cell_type": "markdown",
   "id": "677abad9",
   "metadata": {},
   "source": [
    "Returns the top 50 trending topics for a specific id, if trending information is available for it. Note: The id parameter for this endpoint is the \"where on earth identifier\" or WOEID."
   ]
  },
  {
   "cell_type": "code",
   "execution_count": 9,
   "id": "88f6d8f2",
   "metadata": {},
   "outputs": [
    {
     "name": "stdout",
     "output_type": "stream",
     "text": [
      "The top trends for the location are :\n",
      "\n",
      "#BBIFinalVerdict\n",
      "CJ Martha Koome\n",
      "The BBI\n",
      "#JKLive\n",
      "#LetThePeopleDecide\n",
      "#mainaandkingangi\n",
      "The President\n",
      "#BBIJudgement\n",
      "Supreme Court\n",
      "Constitution\n",
      "Basic Structure Doctrine\n",
      "Attorney General\n",
      "Susan Kihika\n",
      "BBI Bill\n",
      "Court of Appeal\n",
      "Junet\n",
      "moses kajwang\n",
      "Wanjiku\n",
      "Null and Void\n",
      "Reggae\n",
      "Junior\n",
      "Kileleshwa\n",
      "mithika linturi\n",
      "Judiciary\n",
      "Alai\n",
      "Maraga\n",
      "churchill show experience\n",
      "Cameroon\n",
      "violent sugoi man\n",
      "Hon Agnes Kagure\n",
      "mercy mathai\n",
      "Airtel\n",
      "Daily Nation\n",
      "HELB\n",
      "Nyando\n",
      "Jeff\n",
      "KCPE\n",
      "majimaji tosha\n",
      "Building Bridges Initiative\n",
      "IEBC\n",
      "Benji\n",
      "MCAs\n",
      "kuria\n",
      "The Messiah\n",
      "Mendy\n",
      "Ledama\n",
      "Bruce Willis\n",
      "Mane\n",
      "Senegal\n",
      "Mighty Diamonds\n",
      "CPU times: user 24.7 ms, sys: 8.38 ms, total: 33.1 ms\n",
      "Wall time: 878 ms\n"
     ]
    }
   ],
   "source": [
    "%%time\n",
    "## Access trending tweets near my location (Kenya)\n",
    "\n",
    "# WOEID for Kenya (Where On Earth IDentifier)\n",
    "woeid = 23424863\n",
    "\n",
    "# fetching the trends\n",
    "trends = api.get_place_trends(id = woeid)\n",
    "\n",
    "# printing the information\n",
    "print(\"The top trends for the location are :\")\n",
    "print(\"\")\n",
    "\n",
    "## Topic placeholder\n",
    "trending_topics = []\n",
    "\n",
    "## Query and list trends\n",
    "for value in trends:\n",
    "    for trend in value['trends']:\n",
    "        print(trend['name'])\n",
    "        trending_topics.append(trend['name'])"
   ]
  },
  {
   "cell_type": "markdown",
   "id": "85145ce4",
   "metadata": {},
   "source": [
    "#### 3.2.2 Query Tweets for Trends"
   ]
  },
  {
   "cell_type": "markdown",
   "id": "b62e2b50",
   "metadata": {},
   "source": [
    "Query tweets for the above trending hashtags"
   ]
  },
  {
   "cell_type": "code",
   "execution_count": 12,
   "id": "3e0f31b1",
   "metadata": {},
   "outputs": [
    {
     "name": "stdout",
     "output_type": "stream",
     "text": [
      "CPU times: user 1.76 s, sys: 428 ms, total: 2.19 s\n",
      "Wall time: 1min 4s\n"
     ]
    }
   ],
   "source": [
    "%%time\n",
    "# Return the most recent tweets for each trend\n",
    "\n",
    "## tweet count for each hashtag\n",
    "tweet_count = 50\n",
    "\n",
    "## List containers for API output\n",
    "trending_tweets = []\n",
    "trending_time_stamps = []\n",
    "trending_screen_names = []\n",
    "trending_topic = []\n",
    "\n",
    "## Query tweets from trends\n",
    "\n",
    "for topic in trending_topics:\n",
    "    \n",
    "    for tweet in api.search_tweets(q=topic,count=50,lang='en'):\n",
    "        trending_tweets.append(tweet.text)\n",
    "        trending_time_stamps.append(tweet.created_at)\n",
    "        trending_screen_names.append(tweet.user.screen_name)\n",
    "        trending_topic.append(topic)\n",
    "    \n",
    "\n"
   ]
  },
  {
   "cell_type": "code",
   "execution_count": 13,
   "id": "842fa72e",
   "metadata": {},
   "outputs": [
    {
     "data": {
      "text/html": [
       "<div>\n",
       "<style scoped>\n",
       "    .dataframe tbody tr th:only-of-type {\n",
       "        vertical-align: middle;\n",
       "    }\n",
       "\n",
       "    .dataframe tbody tr th {\n",
       "        vertical-align: top;\n",
       "    }\n",
       "\n",
       "    .dataframe thead th {\n",
       "        text-align: right;\n",
       "    }\n",
       "</style>\n",
       "<table border=\"1\" class=\"dataframe\">\n",
       "  <thead>\n",
       "    <tr style=\"text-align: right;\">\n",
       "      <th></th>\n",
       "      <th>screen_name</th>\n",
       "      <th>hashtag</th>\n",
       "      <th>tweet</th>\n",
       "      <th>time_stamp</th>\n",
       "    </tr>\n",
       "  </thead>\n",
       "  <tbody>\n",
       "    <tr>\n",
       "      <th>0</th>\n",
       "      <td>EliasKabere</td>\n",
       "      <td>#BBIFinalVerdict</td>\n",
       "      <td>RT @Belive_Kinuthia: “IEBC was legally constit...</td>\n",
       "      <td>2022-03-31 08:47:01+00:00</td>\n",
       "    </tr>\n",
       "    <tr>\n",
       "      <th>1</th>\n",
       "      <td>Channel54News</td>\n",
       "      <td>#BBIFinalVerdict</td>\n",
       "      <td>KENYA:#BBIFinalVerdict \\n\\n\" If the Supreme Co...</td>\n",
       "      <td>2022-03-31 08:47:00+00:00</td>\n",
       "    </tr>\n",
       "    <tr>\n",
       "      <th>2</th>\n",
       "      <td>KoneMoheavy</td>\n",
       "      <td>#BBIFinalVerdict</td>\n",
       "      <td>RT @BravinYuri: Summary of CJ Martha Koome's v...</td>\n",
       "      <td>2022-03-31 08:47:00+00:00</td>\n",
       "    </tr>\n",
       "    <tr>\n",
       "      <th>3</th>\n",
       "      <td>GodfearingDude</td>\n",
       "      <td>#BBIFinalVerdict</td>\n",
       "      <td>RT @ntvkenya: CJ Koome: I endorse the findings...</td>\n",
       "      <td>2022-03-31 08:46:59+00:00</td>\n",
       "    </tr>\n",
       "    <tr>\n",
       "      <th>4</th>\n",
       "      <td>godwin_sakaya</td>\n",
       "      <td>#BBIFinalVerdict</td>\n",
       "      <td>#Supreme court Judge William Ouko has acted th...</td>\n",
       "      <td>2022-03-31 08:46:59+00:00</td>\n",
       "    </tr>\n",
       "    <tr>\n",
       "      <th>...</th>\n",
       "      <td>...</td>\n",
       "      <td>...</td>\n",
       "      <td>...</td>\n",
       "      <td>...</td>\n",
       "    </tr>\n",
       "    <tr>\n",
       "      <th>2494</th>\n",
       "      <td>abdiazizhashim1</td>\n",
       "      <td>Mighty Diamonds</td>\n",
       "      <td>The BBI Susan Kihika Sonko Junet Odingas Ledam...</td>\n",
       "      <td>2022-03-31 08:30:00+00:00</td>\n",
       "    </tr>\n",
       "    <tr>\n",
       "      <th>2495</th>\n",
       "      <td>exclusiveska</td>\n",
       "      <td>Mighty Diamonds</td>\n",
       "      <td>RT @BigshipSounds: The Mighty Diamonds 🔥🔥 http...</td>\n",
       "      <td>2022-03-31 08:29:55+00:00</td>\n",
       "    </tr>\n",
       "    <tr>\n",
       "      <th>2496</th>\n",
       "      <td>Breasman1</td>\n",
       "      <td>Mighty Diamonds</td>\n",
       "      <td>RT @VPRecords: Devastated to hear of the passi...</td>\n",
       "      <td>2022-03-31 08:26:54+00:00</td>\n",
       "    </tr>\n",
       "    <tr>\n",
       "      <th>2497</th>\n",
       "      <td>royalrampnews</td>\n",
       "      <td>Mighty Diamonds</td>\n",
       "      <td>MIGHTY DIAMONDS Singer Shot &amp;amp; Killed https...</td>\n",
       "      <td>2022-03-31 08:25:20+00:00</td>\n",
       "    </tr>\n",
       "    <tr>\n",
       "      <th>2498</th>\n",
       "      <td>BrianHa19243646</td>\n",
       "      <td>Mighty Diamonds</td>\n",
       "      <td>RT @BrianHa19243646: Mighty Diamonds_have merc...</td>\n",
       "      <td>2022-03-31 08:23:36+00:00</td>\n",
       "    </tr>\n",
       "  </tbody>\n",
       "</table>\n",
       "<p>2499 rows × 4 columns</p>\n",
       "</div>"
      ],
      "text/plain": [
       "          screen_name           hashtag  \\\n",
       "0         EliasKabere  #BBIFinalVerdict   \n",
       "1       Channel54News  #BBIFinalVerdict   \n",
       "2         KoneMoheavy  #BBIFinalVerdict   \n",
       "3      GodfearingDude  #BBIFinalVerdict   \n",
       "4       godwin_sakaya  #BBIFinalVerdict   \n",
       "...               ...               ...   \n",
       "2494  abdiazizhashim1   Mighty Diamonds   \n",
       "2495     exclusiveska   Mighty Diamonds   \n",
       "2496        Breasman1   Mighty Diamonds   \n",
       "2497    royalrampnews   Mighty Diamonds   \n",
       "2498  BrianHa19243646   Mighty Diamonds   \n",
       "\n",
       "                                                  tweet  \\\n",
       "0     RT @Belive_Kinuthia: “IEBC was legally constit...   \n",
       "1     KENYA:#BBIFinalVerdict \\n\\n\" If the Supreme Co...   \n",
       "2     RT @BravinYuri: Summary of CJ Martha Koome's v...   \n",
       "3     RT @ntvkenya: CJ Koome: I endorse the findings...   \n",
       "4     #Supreme court Judge William Ouko has acted th...   \n",
       "...                                                 ...   \n",
       "2494  The BBI Susan Kihika Sonko Junet Odingas Ledam...   \n",
       "2495  RT @BigshipSounds: The Mighty Diamonds 🔥🔥 http...   \n",
       "2496  RT @VPRecords: Devastated to hear of the passi...   \n",
       "2497  MIGHTY DIAMONDS Singer Shot &amp; Killed https...   \n",
       "2498  RT @BrianHa19243646: Mighty Diamonds_have merc...   \n",
       "\n",
       "                    time_stamp  \n",
       "0    2022-03-31 08:47:01+00:00  \n",
       "1    2022-03-31 08:47:00+00:00  \n",
       "2    2022-03-31 08:47:00+00:00  \n",
       "3    2022-03-31 08:46:59+00:00  \n",
       "4    2022-03-31 08:46:59+00:00  \n",
       "...                        ...  \n",
       "2494 2022-03-31 08:30:00+00:00  \n",
       "2495 2022-03-31 08:29:55+00:00  \n",
       "2496 2022-03-31 08:26:54+00:00  \n",
       "2497 2022-03-31 08:25:20+00:00  \n",
       "2498 2022-03-31 08:23:36+00:00  \n",
       "\n",
       "[2499 rows x 4 columns]"
      ]
     },
     "execution_count": 13,
     "metadata": {},
     "output_type": "execute_result"
    }
   ],
   "source": [
    "## Create df from API output\n",
    "trends_df = pd.DataFrame(list(zip(trending_screen_names,trending_topic,trending_tweets,trending_time_stamps)),\n",
    "               columns =['screen_name','hashtag','tweet','time_stamp'])\n",
    "trends_df"
   ]
  },
  {
   "cell_type": "code",
   "execution_count": 14,
   "id": "f1d61a43",
   "metadata": {},
   "outputs": [
    {
     "data": {
      "text/plain": [
       "#BBIFinalVerdict               50\n",
       "CJ Martha Koome                50\n",
       "Cameroon                       50\n",
       "violent sugoi man              50\n",
       "Hon Agnes Kagure               50\n",
       "mercy mathai                   50\n",
       "Airtel                         50\n",
       "Daily Nation                   50\n",
       "HELB                           50\n",
       "Nyando                         50\n",
       "Jeff                           50\n",
       "KCPE                           50\n",
       "majimaji tosha                 50\n",
       "Building Bridges Initiative    50\n",
       "IEBC                           50\n",
       "MCAs                           50\n",
       "kuria                          50\n",
       "The Messiah                    50\n",
       "Mendy                          50\n",
       "Ledama                         50\n",
       "Bruce Willis                   50\n",
       "Mane                           50\n",
       "Senegal                        50\n",
       "churchill show experience      50\n",
       "Maraga                         50\n",
       "Alai                           50\n",
       "Judiciary                      50\n",
       "The BBI                        50\n",
       "#JKLive                        50\n",
       "#LetThePeopleDecide            50\n",
       "#mainaandkingangi              50\n",
       "The President                  50\n",
       "#BBIJudgement                  50\n",
       "Supreme Court                  50\n",
       "Constitution                   50\n",
       "Basic Structure Doctrine       50\n",
       "Attorney General               50\n",
       "Susan Kihika                   50\n",
       "BBI Bill                       50\n",
       "Court of Appeal                50\n",
       "Junet                          50\n",
       "moses kajwang                  50\n",
       "Wanjiku                        50\n",
       "Null and Void                  50\n",
       "Reggae                         50\n",
       "Junior                         50\n",
       "Kileleshwa                     50\n",
       "mithika linturi                50\n",
       "Mighty Diamonds                50\n",
       "Benji                          49\n",
       "Name: hashtag, dtype: int64"
      ]
     },
     "execution_count": 14,
     "metadata": {},
     "output_type": "execute_result"
    }
   ],
   "source": [
    "## Hashtag distribution\n",
    "trends_df.hashtag.value_counts()"
   ]
  },
  {
   "cell_type": "markdown",
   "id": "7fd9e8e7",
   "metadata": {},
   "source": [
    "## Export Data"
   ]
  },
  {
   "cell_type": "markdown",
   "id": "7cc33cd1",
   "metadata": {},
   "source": [
    "Export dataframes as csvs"
   ]
  },
  {
   "cell_type": "code",
   "execution_count": 18,
   "id": "1241cc32",
   "metadata": {},
   "outputs": [],
   "source": [
    "## Set export file names\n",
    "\n",
    "today = date.today()\n",
    "topic_df_name =  'Continent & Country Tweets {}.csv'.format(today)\n",
    "trends_df_name = 'Location Trend Tweets {}.csv'.format(today)"
   ]
  },
  {
   "cell_type": "code",
   "execution_count": 19,
   "id": "eac1f6c2",
   "metadata": {},
   "outputs": [],
   "source": [
    "## Export dataframes\n",
    "\n",
    "topic_df.to_csv(topic_df_name,index=False)\n",
    "\n",
    "trends_df.to_csv(trends_df_name,index= False)"
   ]
  },
  {
   "cell_type": "code",
   "execution_count": null,
   "id": "d8068ed1",
   "metadata": {},
   "outputs": [],
   "source": []
  }
 ],
 "metadata": {
  "kernelspec": {
   "display_name": "Python 3 (ipykernel)",
   "language": "python",
   "name": "python3"
  },
  "language_info": {
   "codemirror_mode": {
    "name": "ipython",
    "version": 3
   },
   "file_extension": ".py",
   "mimetype": "text/x-python",
   "name": "python",
   "nbconvert_exporter": "python",
   "pygments_lexer": "ipython3",
   "version": "3.8.9"
  }
 },
 "nbformat": 4,
 "nbformat_minor": 5
}
